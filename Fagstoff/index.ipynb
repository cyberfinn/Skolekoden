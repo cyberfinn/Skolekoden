{
 "cells": [
  {
   "cell_type": "markdown",
   "metadata": {},
   "source": [
    "# Skolekoden\n",
    "\n",
    "<img alt=\"Python-logo\" style=\"float: right; margin-left: 10px;\" src=\"img/pythonlogo.png\">\n",
    "\n",
    "I dette dokumentet finner du læremidler til et introduksjonskurs i programmering med Python. Kurset er laget med Jupyter Notebooks, hvor fagtekster, interaktiv kode og oppgaver er samlet i ett og samme dokument. I del 2 ser vi relevante problemstillinger som kan løses med programmering.\n",
    "\n",
    "Før du starter med kurset, må du [sette opp et Python programmeringsmiljø](sett-opp-progmiljo.ipynb).\n",
    "\n",
    "## Del 1 - Grunnleggende programmering\n",
    "\n",
    "1. [Hallo verden](halloVerden.ipynb)\n",
    "2. [Variabler](variabler.ipynb)\n",
    "3. [Kontrollstrukturer](kontrollstrukturer.ipynb)\n",
    "4. [Funksjoner](funksjoner.ipynb)\n",
    "5. [Moduler og biblioteker](moduler%20og%20biblioteker.ipynb)\n",
    "5. [Tegne grafer](tegne-grafer.ipynb)\n",
    "6. [Kodekommentarer og dokumentasjon](kodekommentarer.ipynb)\n",
    "7. [Lag et enkelt spill](...)\n",
    "\n",
    "## Del 2 - Programmering i skolen\n",
    "\n",
    "1. [Derivasjon](derivasjon.ipynb)\n",
    "2. [Optimalisering](optimalisering)\n",
    "3. [Rekursjon](...)\n",
    "4. [Likninger](...)\n",
    "5. [Vektorregning](...)\n",
    "6. [Populasjonsmodeller](...)\n",
    "7. [Integralregning](...)\n",
    "8. [Euler](...)\n",
    "\n",
    "Læremidlene er laget av [bitjungle](https://github.com/bitjungle) og [fuzzbin](https://github.com/fuzzbin), og kan brukes fritt av alle."
   ]
  },
  {
   "cell_type": "code",
   "execution_count": null,
   "metadata": {},
   "outputs": [],
   "source": []
  }
 ],
 "metadata": {
  "kernelspec": {
   "display_name": "Python 3",
   "language": "python",
   "name": "python3"
  },
  "language_info": {
   "codemirror_mode": {
    "name": "ipython",
    "version": 3
   },
   "file_extension": ".py",
   "mimetype": "text/x-python",
   "name": "python",
   "nbconvert_exporter": "python",
   "pygments_lexer": "ipython3",
   "version": "3.6.4"
  }
 },
 "nbformat": 4,
 "nbformat_minor": 2
}
